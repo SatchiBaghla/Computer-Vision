{
 "cells": [
  {
   "cell_type": "markdown",
   "metadata": {},
   "source": [
    "Illustrate triangulation / two-frame motion<br>\n",
    "Use your smartphone or camera to capture two images (left and right) of the same scene from slightly different positions. Write a Python program using OpenCV to:\n",
    "1. Detect and match keypoints between the two images using ORB.<br>\n",
    "2. Calculate the 3D coordinates of matched points using triangulation.<br>\n",
    "3. Display the matched keypoints and print the 3D coordinates.<br>\n",
    "<br>\n",
    "Deliverables:<br>\n",
    "• Python script (triangulation.py).<br>\n",
    "• Matched keypoints visualization.<br>\n",
    "• 3D coordinates of points printed in the console.<br>"
   ]
  },
  {
   "cell_type": "code",
   "execution_count": null,
   "metadata": {},
   "outputs": [],
   "source": []
  }
 ],
 "metadata": {
  "language_info": {
   "name": "python"
  }
 },
 "nbformat": 4,
 "nbformat_minor": 2
}
